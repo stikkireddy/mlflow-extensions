{
 "cells": [
  {
   "cell_type": "markdown",
   "metadata": {
    "application/vnd.databricks.v1+cell": {
     "cellMetadata": {},
     "inputWidgets": {},
     "nuid": "3e2fb599-10c0-43af-9357-8384829cb404",
     "showTitle": false,
     "title": ""
    }
   },
   "source": [
    "\n",
    "# KEEP IN MIND AYA does not have a apache 2.0 or MIT license it is cc-by-nc-4.0 \n",
    "\n",
    "# YOU MUST adhere to C4AI's Acceptable Use Policy\n",
    "\n",
    "Read more here: https://huggingface.co/CohereForAI/aya-23-35B"
   ]
  },
  {
   "cell_type": "code",
   "execution_count": 0,
   "metadata": {
    "application/vnd.databricks.v1+cell": {
     "cellMetadata": {},
     "inputWidgets": {},
     "nuid": "997114d3-224f-4644-9930-371519c85f62",
     "showTitle": false,
     "title": ""
    }
   },
   "outputs": [],
   "source": [
    "%pip install mlflow-extensions\n",
    "%pip install -U mlflow\n",
    "dbutils.library.restartPython()"
   ]
  },
  {
   "cell_type": "code",
   "execution_count": 0,
   "metadata": {
    "application/vnd.databricks.v1+cell": {
     "cellMetadata": {},
     "inputWidgets": {},
     "nuid": "ff1b7161-3da9-417e-a8b0-f55ae56d6d4f",
     "showTitle": false,
     "title": ""
    }
   },
   "outputs": [],
   "source": [
    "from mlflow_extensions.databricks.deploy.ez_deploy import EzDeploy\n",
    "from mlflow_extensions.databricks.prebuilt import prebuilt\n",
    "import os\n",
    "\n",
    "os.environ[\"HF_TOKEN\"] = dbutils.secrets.get(\n",
    "    scope=\"sri-mlflow-extensions\", key=\"hf-token\"\n",
    ")\n",
    "\n",
    "deployer = EzDeploy(\n",
    "  config=prebuilt.text.vllm.COHERE_FOR_AYA_23_35B,\n",
    "  registered_model_name=\"main.default.cohere_aya_35b\"\n",
    ")\n",
    "\n",
    "deployer.download()\n",
    "\n",
    "deployer.register()\n",
    "\n",
    "endpoint_name = \"sri_cohere_aya\"\n",
    "\n",
    "deployer.deploy(endpoint_name)"
   ]
  },
  {
   "cell_type": "code",
   "execution_count": 0,
   "metadata": {
    "application/vnd.databricks.v1+cell": {
     "cellMetadata": {},
     "inputWidgets": {},
     "nuid": "8221dfff-be14-417c-becb-7fdd5a4afe70",
     "showTitle": false,
     "title": ""
    }
   },
   "outputs": [],
   "source": [
    "endpoint_name = \"sri_cohere_aya\"\n",
    "\n",
    "from mlflow_extensions.serving.compat.openai import OpenAI\n",
    "from mlflow.utils.databricks_utils import get_databricks_host_creds\n",
    "from mlflow_extensions.databricks.prebuilt import prebuilt\n",
    "\n",
    "workspace_host = spark.conf.get(\"spark.databricks.workspaceUrl\")\n",
    "endpoint_name = f\"https://{workspace_host}/serving-endpoints/{endpoint_name}/invocations\"\n",
    "token = get_databricks_host_creds().token\n",
    "\n",
    "client = OpenAI(\n",
    "  base_url=endpoint_name,\n",
    "  api_key=token\n",
    ")\n",
    "\n",
    "response = client.chat.completions.create(\n",
    "    model=prebuilt.text.vllm.COHERE_FOR_AYA_23_35B.engine_config.model,\n",
    "    messages=[\n",
    "        {\n",
    "            \"role\": \"user\",\n",
    "            \"content\": \"Hi what model are you, who trained you?\"\n",
    "        }\n",
    "    ],\n",
    ")\n",
    "response"
   ]
  },
  {
   "cell_type": "code",
   "execution_count": 0,
   "metadata": {
    "application/vnd.databricks.v1+cell": {
     "cellMetadata": {},
     "inputWidgets": {},
     "nuid": "481355c4-4958-4bbe-a114-93edd1dc61ba",
     "showTitle": false,
     "title": ""
    }
   },
   "outputs": [],
   "source": []
  }
 ],
 "metadata": {
  "application/vnd.databricks.v1+notebook": {
   "dashboards": [],
   "environmentMetadata": {
    "base_environment": "",
    "client": "1"
   },
   "language": "python",
   "notebookMetadata": {
    "pythonIndentUnit": 2
   },
   "notebookName": "05-getting-started-aya",
   "widgets": {}
  }
 },
 "nbformat": 4,
 "nbformat_minor": 0
}
