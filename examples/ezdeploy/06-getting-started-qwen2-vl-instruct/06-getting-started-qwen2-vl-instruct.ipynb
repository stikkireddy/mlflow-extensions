{
 "cells": [
  {
   "cell_type": "code",
   "execution_count": 0,
   "metadata": {
    "application/vnd.databricks.v1+cell": {
     "cellMetadata": {},
     "inputWidgets": {},
     "nuid": "b9ae6be4-26c5-4ad1-a81f-9c1c3de8a659",
     "showTitle": false,
     "title": ""
    }
   },
   "outputs": [],
   "source": [
    "%pip install mlflow-extensions==0.12.0\n",
    "%pip install -U mlflow\n",
    "dbutils.library.restartPython()"
   ]
  },
  {
   "cell_type": "code",
   "execution_count": 0,
   "metadata": {
    "application/vnd.databricks.v1+cell": {
     "cellMetadata": {},
     "inputWidgets": {},
     "nuid": "55ea9ab7-f7af-4bf9-9598-6a7851c4a202",
     "showTitle": false,
     "title": ""
    }
   },
   "outputs": [],
   "source": [
    "from mlflow_extensions.databricks.deploy.ez_deploy import EzDeploy\n",
    "from mlflow_extensions.databricks.prebuilt import prebuilt\n",
    "import os\n",
    "\n",
    "os.environ[\"HF_TOKEN\"] = dbutils.secrets.get(\n",
    "    scope=\"sri-mlflow-extensions\", key=\"hf-token\"\n",
    ")\n",
    "\n",
    "deployer = EzDeploy(\n",
    "  config=prebuilt.vision.vllm.QWEN2_VL_7B_INSTRUCT,\n",
    "  registered_model_name=\"main.default.qwen2_vl_7b_instruct\"\n",
    ")\n",
    "\n",
    "deployer.download()\n",
    "\n",
    "deployer.register()\n",
    "\n",
    "endpoint_name = \"sri_qwen2_vl_7b_instruct\"\n",
    "\n",
    "deployer.deploy(endpoint_name, scale_to_zero=False)"
   ]
  },
  {
   "cell_type": "code",
   "execution_count": 0,
   "metadata": {
    "application/vnd.databricks.v1+cell": {
     "cellMetadata": {},
     "inputWidgets": {},
     "nuid": "21a44a40-17e2-4570-8e9c-5bbbc1fcc377",
     "showTitle": false,
     "title": ""
    }
   },
   "outputs": [],
   "source": [
    "endpoint_name = \"sri_qwen2_vl_7b_instruct\"\n",
    "\n",
    "from mlflow_extensions.serving.compat.openai import OpenAI\n",
    "from mlflow.utils.databricks_utils import get_databricks_host_creds\n",
    "from mlflow_extensions.databricks.prebuilt import prebuilt\n",
    "from pydantic import BaseModel\n",
    "import typing as t\n",
    "\n",
    "workspace_host = spark.conf.get(\"spark.databricks.workspaceUrl\")\n",
    "endpoint_name = f\"https://{workspace_host}/serving-endpoints/{endpoint_name}/invocations\"\n",
    "token = get_databricks_host_creds().token\n",
    "\n",
    "client = OpenAI(\n",
    "  base_url=endpoint_name,\n",
    "  api_key=token\n",
    ")\n",
    "\n",
    "\n",
    "class Comparison(BaseModel):\n",
    "  image_1_details: str\n",
    "  image_2_details: str\n",
    "  image_1_colors: t.List[str]\n",
    "  image_2_colors: t.List[str]\n",
    "  image_1_has_human: bool\n",
    "  image_2_has_human: bool\n",
    "  image_1_human_gender: t.Literal[\"male\", \"female\", \"no human\"]\n",
    "  image_2_human_gender: t.Literal[\"male\", \"female\", \"no human\"]\n",
    "\n",
    "prompt = f\"Compare the two images and use this schema for reference and no markdown just valid json: {Comparison.schema()}\"\n",
    "\n",
    "\n",
    "\n",
    "url_1 = \"https://richmedia.ca-richimage.com/ImageDelivery/imageService?profileId=12026540&id=1859027&recipeId=728\"\n",
    "url_2 = \"https://m.media-amazon.com/images/I/81W3YQdu-tL._AC_SY550_.jpg\"\n",
    "\n",
    "response = client.chat.completions.create(\n",
    "    model=prebuilt.vision.vllm.QWEN2_VL_7B_INSTRUCT.engine_config.model,\n",
    "    messages=[\n",
    "      {\n",
    "        \"role\": \"user\",\n",
    "        \"content\": [\n",
    "            {\"type\" : \"text\", \"text\": prompt},\n",
    "            {\"type\": \"image_url\", \"image_url\": {\"url\": url_1}},\n",
    "            {\"type\" : \"text\", \"text\": \"to this image. Answer in english.\"},\n",
    "            {\"type\": \"image_url\", \"image_url\": {\"url\": url_2}}\n",
    "        ]\n",
    "      }\n",
    "    ],\n",
    "    max_tokens=8192,\n",
    ")\n",
    "print(response.choices[0].message.content)"
   ]
  },
  {
   "cell_type": "code",
   "execution_count": 0,
   "metadata": {
    "application/vnd.databricks.v1+cell": {
     "cellMetadata": {},
     "inputWidgets": {},
     "nuid": "daaa7b4b-18e2-4e25-a509-c3886e514c3c",
     "showTitle": false,
     "title": ""
    }
   },
   "outputs": [],
   "source": []
  }
 ],
 "metadata": {
  "application/vnd.databricks.v1+notebook": {
   "dashboards": [],
   "environmentMetadata": {
    "base_environment": "",
    "client": "1"
   },
   "language": "python",
   "notebookMetadata": {
    "pythonIndentUnit": 2
   },
   "notebookName": "06-getting-started-qwen2-vl-instruct",
   "widgets": {}
  }
 },
 "nbformat": 4,
 "nbformat_minor": 0
}
