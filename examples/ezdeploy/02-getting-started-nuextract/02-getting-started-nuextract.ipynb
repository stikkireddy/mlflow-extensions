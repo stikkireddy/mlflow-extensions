{
 "cells": [
  {
   "cell_type": "code",
   "execution_count": 0,
   "metadata": {
    "application/vnd.databricks.v1+cell": {
     "cellMetadata": {},
     "inputWidgets": {},
     "nuid": "8dd06c53-d299-48d7-b028-574f3cc8ff8a",
     "showTitle": false,
     "title": ""
    }
   },
   "outputs": [],
   "source": [
    "%pip install mlflow-extensions\n",
    "%pip install mlflow -U\n",
    "dbutils.library.restartPython()"
   ]
  },
  {
   "cell_type": "code",
   "execution_count": 0,
   "metadata": {
    "application/vnd.databricks.v1+cell": {
     "cellMetadata": {},
     "inputWidgets": {},
     "nuid": "8cab6043-e225-4d37-bbcb-e2351c0df433",
     "showTitle": false,
     "title": ""
    }
   },
   "outputs": [],
   "source": [
    "from mlflow_extensions.databricks.deploy.ez_deploy import EzDeploy\n",
    "from mlflow_extensions.databricks.prebuilt import prebuilt\n",
    "\n",
    "deployer = EzDeploy(\n",
    "  config=prebuilt.text.vllm.NUEXTRACT,\n",
    "  registered_model_name=\"main.default.nuextract_vllm\"\n",
    ")\n",
    "\n",
    "deployer.download()\n",
    "\n",
    "deployer.register()\n",
    "\n",
    "endpoint_name = \"nuextract_vllm\"\n",
    "\n",
    "deployer.deploy(endpoint_name)\n"
   ]
  },
  {
   "cell_type": "code",
   "execution_count": 0,
   "metadata": {
    "application/vnd.databricks.v1+cell": {
     "cellMetadata": {},
     "inputWidgets": {},
     "nuid": "b3710837-1509-4432-ae2a-a8e52650bab2",
     "showTitle": false,
     "title": ""
    }
   },
   "outputs": [],
   "source": [
    "from mlflow_extensions.serving.compat.openai import OpenAI\n",
    "from mlflow_extensions.databricks.prebuilt import prebuilt\n",
    "from mlflow.utils.databricks_utils import get_databricks_host_creds\n",
    "\n",
    "workspace_host = spark.conf.get(\"spark.databricks.workspaceUrl\")\n",
    "endpoint_name = \"nuextract_vllm\"\n",
    "endpoint_url = f\"https://{workspace_host}/serving-endpoints/{endpoint_name}/invocations\"\n",
    "\n",
    "token = get_databricks_host_creds().token\n",
    "\n",
    "client = OpenAI(\n",
    "  base_url=endpoint_url,\n",
    "  api_key=token\n",
    ")\n",
    "\n",
    "model_name = prebuilt.text.vllm.NUEXTRACT.engine_config.model\n",
    "\n",
    "from pydantic import BaseModel\n",
    "from typing import Literal, List\n",
    "\n",
    "class ExtractedBody(BaseModel):\n",
    "    product: str\n",
    "    languages: Literal[\"python\", \"sql\", \"scala\"]\n",
    "    keywords: List[str]\n",
    "    strategies: List[str]\n",
    "\n",
    "\n",
    "response = client.chat.completions.create(\n",
    "    model=model_name,\n",
    "    messages=[\n",
    "        {\n",
    "            \"role\": \"user\",\n",
    "            \"content\": \"\"\"The Databricks Lakehouse Platform for Dummies is your guide to simplifying \n",
    "your data storage. The lakehouse platform has SQL and performance \n",
    "capabilities - indexing, caching and MPP processing - to make \n",
    "BI work rapidly on data lakes. It also provides direct file access \n",
    "and direct native support for Python, data science and \n",
    "AI frameworks without the need to force data through an \n",
    "SQL-based data warehouse. Find out how the lakehouse platform \n",
    "creates an opportunity for you to accelerate your data strategy.\"\"\"\n",
    "        }\n",
    "    ],\n",
    "    extra_body={\n",
    "        \"guided_json\": ExtractedBody.schema()\n",
    "    }\n",
    ")\n",
    "response.choices[0].message.content"
   ]
  },
  {
   "cell_type": "code",
   "execution_count": 0,
   "metadata": {
    "application/vnd.databricks.v1+cell": {
     "cellMetadata": {},
     "inputWidgets": {},
     "nuid": "19345447-a876-4915-8722-531c91ec788a",
     "showTitle": false,
     "title": ""
    }
   },
   "outputs": [],
   "source": []
  }
 ],
 "metadata": {
  "application/vnd.databricks.v1+notebook": {
   "dashboards": [],
   "environmentMetadata": {
    "base_environment": "",
    "client": "1"
   },
   "language": "python",
   "notebookMetadata": {
    "pythonIndentUnit": 2
   },
   "notebookName": "02-getting-started-nuextract",
   "widgets": {}
  }
 },
 "nbformat": 4,
 "nbformat_minor": 0
}
