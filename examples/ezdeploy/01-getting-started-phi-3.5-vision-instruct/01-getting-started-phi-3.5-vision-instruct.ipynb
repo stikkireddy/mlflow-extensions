{
 "cells": [
  {
   "cell_type": "code",
   "execution_count": 0,
   "metadata": {
    "application/vnd.databricks.v1+cell": {
     "cellMetadata": {},
     "inputWidgets": {},
     "nuid": "6c45dd38-ca9f-4761-a286-18aee5cb3840",
     "showTitle": false,
     "title": ""
    }
   },
   "outputs": [],
   "source": [
    "%pip install mlflow-extensions\n",
    "%pip install -U mlflow\n",
    "dbutils.library.restartPython()"
   ]
  },
  {
   "cell_type": "code",
   "execution_count": 0,
   "metadata": {
    "application/vnd.databricks.v1+cell": {
     "cellMetadata": {},
     "inputWidgets": {},
     "nuid": "e07423cd-e63f-4b50-8ab6-ce933c678bcf",
     "showTitle": false,
     "title": ""
    }
   },
   "outputs": [],
   "source": [
    "from mlflow_extensions.databricks.prebuilt import prebuilt\n",
    "from mlflow_extensions.databricks.deploy.ez_deploy import EzDeploy\n",
    "\n",
    "deployer = EzDeploy(\n",
    "  config=prebuilt.vision.vllm.PHI_3_5_VISION_INSTRUCT_12K,\n",
    "  registered_model_name=\"main.default.sri_phi_3_5_vision_instruct_12k\"\n",
    ")"
   ]
  },
  {
   "cell_type": "code",
   "execution_count": 0,
   "metadata": {
    "application/vnd.databricks.v1+cell": {
     "cellMetadata": {},
     "inputWidgets": {},
     "nuid": "d83b5286-f155-4921-89b6-00e183bf7d06",
     "showTitle": false,
     "title": ""
    }
   },
   "outputs": [],
   "source": [
    "deployer.download()"
   ]
  },
  {
   "cell_type": "code",
   "execution_count": 0,
   "metadata": {
    "application/vnd.databricks.v1+cell": {
     "cellMetadata": {},
     "inputWidgets": {},
     "nuid": "e2982007-1c58-4dca-99fb-fbfd21623e11",
     "showTitle": false,
     "title": ""
    }
   },
   "outputs": [],
   "source": [
    "deployer.register()"
   ]
  },
  {
   "cell_type": "code",
   "execution_count": 0,
   "metadata": {
    "application/vnd.databricks.v1+cell": {
     "cellMetadata": {},
     "inputWidgets": {},
     "nuid": "5c0c71ae-786c-4512-9fc6-36e0ccf801c4",
     "showTitle": false,
     "title": ""
    }
   },
   "outputs": [],
   "source": [
    "endpoint_name = \"sri_phi_3_5_vision_instruct_vllm\"\n",
    "deployer.deploy(endpoint_name)"
   ]
  },
  {
   "cell_type": "code",
   "execution_count": 0,
   "metadata": {
    "application/vnd.databricks.v1+cell": {
     "cellMetadata": {},
     "inputWidgets": {},
     "nuid": "bd856f47-752f-409e-ab66-2b637858194f",
     "showTitle": false,
     "title": ""
    }
   },
   "outputs": [],
   "source": [
    "dbutils.notebook.exit()"
   ]
  },
  {
   "cell_type": "markdown",
   "metadata": {
    "application/vnd.databricks.v1+cell": {
     "cellMetadata": {},
     "inputWidgets": {},
     "nuid": "de10c785-4805-4073-a020-dc35b2b1f2e1",
     "showTitle": false,
     "title": ""
    }
   },
   "source": [
    "\n",
    "### Wait for model to deploy\n"
   ]
  },
  {
   "cell_type": "code",
   "execution_count": 0,
   "metadata": {
    "application/vnd.databricks.v1+cell": {
     "cellMetadata": {},
     "inputWidgets": {},
     "nuid": "4b4ed972-1ac1-463d-b71b-591fbf78ff01",
     "showTitle": false,
     "title": ""
    }
   },
   "outputs": [],
   "source": [
    "from mlflow_extensions.serving.compat.openai import OpenAI\n",
    "from mlflow.utils.databricks_utils import get_databricks_host_creds\n",
    "\n",
    "workspace_host = spark.conf.get(\"spark.databricks.workspaceUrl\")\n",
    "endpoint_name = f\"https://{workspace_host}/serving-endpoints/{endpoint_name}/invocations\"\n",
    "token = get_databricks_host_creds().token"
   ]
  },
  {
   "cell_type": "code",
   "execution_count": 0,
   "metadata": {
    "application/vnd.databricks.v1+cell": {
     "cellMetadata": {},
     "inputWidgets": {},
     "nuid": "a25f9722-2342-4031-ad37-2018bfbcb07f",
     "showTitle": false,
     "title": ""
    }
   },
   "outputs": [],
   "source": [
    "client = OpenAI(\n",
    "  base_url=endpoint_name,\n",
    "  api_key=token\n",
    ")\n",
    "\n",
    "my_model = None\n",
    "for model in client.models.list():\n",
    "  print(model.id)\n",
    "  my_model = model.id"
   ]
  },
  {
   "cell_type": "code",
   "execution_count": 0,
   "metadata": {
    "application/vnd.databricks.v1+cell": {
     "cellMetadata": {},
     "inputWidgets": {},
     "nuid": "dde36059-1771-4378-be3c-0618346770ca",
     "showTitle": false,
     "title": ""
    }
   },
   "outputs": [],
   "source": [
    "# Try this if you want to do guided decoding\n",
    "# from pydantic import BaseModel\n",
    "\n",
    "# class ExpectedJson(BaseModel):\n",
    "#     outside: bool\n",
    "#     inside: bool\n",
    "#     boardwalk: bool\n",
    "#     grass: bool\n",
    "\n",
    "# while True:\n",
    "response = client.chat.completions.create(\n",
    "  model=my_model,\n",
    "  messages=[\n",
    "    {\"role\": \"user\", \n",
    "    \"content\": [\n",
    "                {\"type\": \"text\", \"text\": \"Is the image indoors or outdoors?\"},\n",
    "                {\n",
    "                    \"type\": \"image_url\",\n",
    "                    \"image_url\": {\n",
    "                      \"url\": \"https://upload.wikimedia.org/wikipedia/commons/thumb/d/dd/Gfp-wisconsin-madison-the-nature-boardwalk.jpg/2560px-Gfp-wisconsin-madison-the-nature-boardwalk.jpg\"\n",
    "                    },\n",
    "                },\n",
    "            ],\n",
    "    }\n",
    "  ],\n",
    "  # extra_body={\n",
    "  #   \"guided_choice\": [\"outside\", \"indoors\"]\n",
    "  # }\n",
    "  # extra_body={\n",
    "  #   \"guided_json\": ExpectedJson.schema()\n",
    "  # }\n",
    ")\n",
    "\n",
    "response.choices[0].message.content.strip()"
   ]
  },
  {
   "cell_type": "code",
   "execution_count": 0,
   "metadata": {
    "application/vnd.databricks.v1+cell": {
     "cellMetadata": {},
     "inputWidgets": {},
     "nuid": "b7dd81aa-a5b1-4407-821c-2ab3391e69c6",
     "showTitle": false,
     "title": ""
    }
   },
   "outputs": [],
   "source": []
  }
 ],
 "metadata": {
  "application/vnd.databricks.v1+notebook": {
   "dashboards": [],
   "environmentMetadata": {
    "base_environment": "",
    "client": "1"
   },
   "language": "python",
   "notebookMetadata": {
    "pythonIndentUnit": 2
   },
   "notebookName": "01-getting-started-phi-3.5-vision-instruct",
   "widgets": {}
  }
 },
 "nbformat": 4,
 "nbformat_minor": 0
}
